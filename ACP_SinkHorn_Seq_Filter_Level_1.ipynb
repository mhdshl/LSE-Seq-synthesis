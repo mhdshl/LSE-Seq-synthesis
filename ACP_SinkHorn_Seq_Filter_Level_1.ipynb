{
  "nbformat": 4,
  "nbformat_minor": 0,
  "metadata": {
    "colab": {
      "provenance": []
    },
    "kernelspec": {
      "name": "python3",
      "display_name": "Python 3"
    },
    "language_info": {
      "name": "python"
    }
  },
  "cells": [
    {
      "cell_type": "code",
      "execution_count": 1,
      "metadata": {
        "colab": {
          "base_uri": "https://localhost:8080/"
        },
        "id": "CjeSJ5G56rS0",
        "outputId": "5ab375f3-628a-43ab-ea5e-d9ba0f0be8b1"
      },
      "outputs": [
        {
          "output_type": "stream",
          "name": "stdout",
          "text": [
            "Collecting wget\n",
            "  Downloading wget-3.2.zip (10 kB)\n",
            "  Preparing metadata (setup.py) ... \u001b[?25l\u001b[?25hdone\n",
            "Building wheels for collected packages: wget\n",
            "  Building wheel for wget (setup.py) ... \u001b[?25l\u001b[?25hdone\n",
            "  Created wheel for wget: filename=wget-3.2-py3-none-any.whl size=9656 sha256=19ee6c75ba41eff5134b14cbe2b1ec035360b1970d19c097d288091f3e29bea1\n",
            "  Stored in directory: /root/.cache/pip/wheels/8b/f1/7f/5c94f0a7a505ca1c81cd1d9208ae2064675d97582078e6c769\n",
            "Successfully built wget\n",
            "Installing collected packages: wget\n",
            "Successfully installed wget-3.2\n"
          ]
        }
      ],
      "source": [
        "## import libraries\n",
        "from __future__ import absolute_import, division, print_function, unicode_literals\n",
        "import os\n",
        "import tensorflow as tf\n",
        "from tensorflow.keras.models import Model\n",
        "from tensorflow.keras.models import model_from_json\n",
        "from keras.utils import to_categorical\n",
        "import matplotlib.pyplot as plt\n",
        "import numpy as np\n",
        "import pandas as pd\n",
        "from keras.callbacks import EarlyStopping\n",
        "!pip install wget\n",
        "import wget\n",
        "\n",
        "import sys, os, re, gc\n",
        "from random import sample\n",
        "import numpy.linalg as LA\n",
        "import datetime\n",
        "from sklearn.neighbors import NearestCentroid, NearestNeighbors\n",
        "\n",
        "from sklearn.preprocessing import normalize, Normalizer\n",
        "from sklearn.decomposition import KernelPCA, PCA\n",
        "from imblearn.over_sampling import ADASYN, SMOTE, SVMSMOTE, KMeansSMOTE, BorderlineSMOTE\n",
        "from sklearn.manifold import TSNE"
      ]
    },
    {
      "cell_type": "code",
      "source": [
        "acp_feature_extraction = wget.download('https://raw.githubusercontent.com/mhdshl/LSE-Seq-synthesis/main/utils/acp_feature_extraction.py')\n",
        "ACP_DL740_path = wget.download('https://raw.githubusercontent.com/mhdshl/LSE-Seq-synthesis/main/trained_models/ACP_DL_740_3.keras')\n",
        "ACP_MHCNN740_path = wget.download('https://raw.githubusercontent.com/mhdshl/LSE-Seq-synthesis/main/trained_models/ACP_MHCNN.h5')\n",
        "ACP_LSE740_path = wget.download('https://raw.githubusercontent.com/mhdshl/LSE-Seq-synthesis/main/trained_models/ACP-LSE/ACP-LSE2.h5')\n",
        "\n",
        "ACP_DL240_path = wget.download('https://raw.githubusercontent.com/mhdshl/LSE-Seq-synthesis/main/trained_models/ACP_DL_240_0.keras')\n",
        "ACP_MHCNN240_path = wget.download('https://raw.githubusercontent.com/mhdshl/LSE-Seq-synthesis/main/trained_models/model-240.h5')\n",
        "ACP_LSE240_path = wget.download('https://raw.githubusercontent.com/mhdshl/LSE-Seq-synthesis/main/trained_models/ACP-LSE_240_1.keras')\n",
        "\n",
        "pred_ACP_240 = 'https://raw.githubusercontent.com/mhdshl/LSE-Seq-synthesis/main/data/pred_seq_240_ACP.txt'\n",
        "pred_ACP_740 = 'https://raw.githubusercontent.com/mhdshl/LSE-Seq-synthesis/main/data/pred_seq_740_ACP.txt'\n",
        "pred_nonACP_240 = 'https://raw.githubusercontent.com/mhdshl/LSE-Seq-synthesis/main/data/pred_seq_240_nonACP.txt'\n",
        "pred_nonACP_740 = 'https://raw.githubusercontent.com/mhdshl/LSE-Seq-synthesis/main/data/pred_seq_740_nonACP.txt'\n",
        "\n",
        "from acp_feature_extraction import *"
      ],
      "metadata": {
        "id": "3xMd_YOg6z2j"
      },
      "execution_count": 2,
      "outputs": []
    },
    {
      "cell_type": "code",
      "source": [
        "ACP_DL_240 = tf.keras.models.load_model(ACP_DL240_path)\n",
        "ACP_MHCNN_240 = tf.keras.models.load_model(ACP_MHCNN240_path)\n",
        "ACP_LSE_240 = tf.keras.models.load_model(ACP_LSE240_path)\n",
        "\n",
        "ACP_DL_740 = tf.keras.models.load_model(ACP_DL740_path)\n",
        "ACP_MHCNN_740 = tf.keras.models.load_model(ACP_MHCNN740_path)\n",
        "ACP_LSE_740 = tf.keras.models.load_model(ACP_LSE740_path)"
      ],
      "metadata": {
        "colab": {
          "base_uri": "https://localhost:8080/"
        },
        "id": "l-w6SgsL698p",
        "outputId": "038bd899-cf56-48ce-d9c6-0a5540462fea"
      },
      "execution_count": 3,
      "outputs": [
        {
          "output_type": "stream",
          "name": "stderr",
          "text": [
            "/usr/local/lib/python3.10/dist-packages/keras/src/optimizers/base_optimizer.py:33: UserWarning: Argument `decay` is no longer supported and will be ignored.\n",
            "  warnings.warn(\n",
            "WARNING:absl:Compiled the loaded model, but the compiled metrics have yet to be built. `model.compile_metrics` will be empty until you train or evaluate the model.\n",
            "WARNING:absl:Error in loading the saved optimizer state. As a result, your model is starting with a freshly initialized optimizer.\n",
            "WARNING:absl:Compiled the loaded model, but the compiled metrics have yet to be built. `model.compile_metrics` will be empty until you train or evaluate the model.\n",
            "WARNING:absl:Error in loading the saved optimizer state. As a result, your model is starting with a freshly initialized optimizer.\n",
            "WARNING:absl:Compiled the loaded model, but the compiled metrics have yet to be built. `model.compile_metrics` will be empty until you train or evaluate the model.\n",
            "WARNING:absl:Error in loading the saved optimizer state. As a result, your model is starting with a freshly initialized optimizer.\n"
          ]
        }
      ]
    },
    {
      "cell_type": "markdown",
      "source": [
        "## ACP-MHCNN\n",
        "\n"
      ],
      "metadata": {
        "id": "MnY0P_4d7J8W"
      }
    },
    {
      "cell_type": "markdown",
      "source": [
        "### ACP 240"
      ],
      "metadata": {
        "id": "NAp3RPKQJ5En"
      }
    },
    {
      "cell_type": "code",
      "source": [
        "BPF240_nonACP = numeric(dBPF, pred_nonACP_240)\n",
        "dBIT240_nonACP = numeric(dBIT, pred_nonACP_240)\n",
        "dBLOSUM240_nonACP = numeric(dBLOSUM, pred_nonACP_240)\n",
        "\n",
        "print(BPF240_nonACP.shape)\n",
        "print(dBIT240_nonACP.shape)\n",
        "print(dBLOSUM240_nonACP.shape)\n",
        "\n",
        "y_pred_240nonACP_MHCNN = ACP_MHCNN_240.predict([BPF240_nonACP, dBIT240_nonACP, dBLOSUM240_nonACP])\n",
        "print(y_pred_240nonACP_MHCNN.shape)\n",
        "pred_nonACP240_MHCNN = np.argmax(y_pred_240nonACP_MHCNN, axis=1)\n",
        "print('Synthesized nonACP240 Positive',pred_nonACP240_MHCNN.shape)\n",
        "\n",
        "BPF240_ACP = numeric(dBPF, pred_ACP_240)\n",
        "dBIT240_ACP = numeric(dBIT, pred_ACP_240)\n",
        "dBLOSUM240_ACP = numeric(dBLOSUM, pred_ACP_240)\n",
        "\n",
        "print(BPF240_ACP.shape)\n",
        "print(dBIT240_ACP.shape)\n",
        "print(dBLOSUM240_ACP.shape)\n",
        "\n",
        "y_pred_240ACP_MHCNN = ACP_MHCNN_240.predict([BPF240_ACP, dBIT240_ACP, dBLOSUM240_ACP])\n",
        "print(y_pred_240ACP_MHCNN.shape)\n",
        "pred_ACP240_MHCNN = np.argmax(y_pred_240ACP_MHCNN, axis=1)\n",
        "print('Synthesized ACP240 Positive', pred_ACP240_MHCNN.shape)"
      ],
      "metadata": {
        "colab": {
          "base_uri": "https://localhost:8080/"
        },
        "id": "fae-WA9U7B2g",
        "outputId": "9eb7f72d-7ae0-4bb1-d27f-a04805bfaaf7"
      },
      "execution_count": 4,
      "outputs": [
        {
          "output_type": "stream",
          "name": "stdout",
          "text": [
            "Downloading data from https://raw.githubusercontent.com/mhdshl/LSE-Seq-synthesis/main/data/pred_seq_240_nonACP.txt\n",
            "\u001b[1m130021/130021\u001b[0m \u001b[32m━━━━━━━━━━━━━━━━━━━━\u001b[0m\u001b[37m\u001b[0m \u001b[1m0s\u001b[0m 0us/step\n",
            "(4000, 25, 20)\n",
            "(4000, 25, 31)\n",
            "(4000, 25, 20)\n",
            "\u001b[1m125/125\u001b[0m \u001b[32m━━━━━━━━━━━━━━━━━━━━\u001b[0m\u001b[37m\u001b[0m \u001b[1m3s\u001b[0m 17ms/step\n",
            "(4000, 2)\n",
            "Synthesized nonACP240 Positive (4000,)\n",
            "Downloading data from https://raw.githubusercontent.com/mhdshl/LSE-Seq-synthesis/main/data/pred_seq_240_ACP.txt\n",
            "\u001b[1m139547/139547\u001b[0m \u001b[32m━━━━━━━━━━━━━━━━━━━━\u001b[0m\u001b[37m\u001b[0m \u001b[1m0s\u001b[0m 0us/step\n",
            "(4000, 25, 20)\n",
            "(4000, 25, 31)\n",
            "(4000, 25, 20)\n",
            "\u001b[1m125/125\u001b[0m \u001b[32m━━━━━━━━━━━━━━━━━━━━\u001b[0m\u001b[37m\u001b[0m \u001b[1m1s\u001b[0m 5ms/step\n",
            "(4000, 2)\n",
            "Synthesized ACP240 Positive (4000,)\n"
          ]
        }
      ]
    },
    {
      "cell_type": "markdown",
      "source": [
        "### ACP740"
      ],
      "metadata": {
        "id": "Cn6NUd1BKguQ"
      }
    },
    {
      "cell_type": "code",
      "source": [
        "BPF740_nonACP = numeric(dBPF, pred_nonACP_740)\n",
        "dBIT740_nonACP = numeric(dBIT, pred_nonACP_740)\n",
        "dBLOSUM740_nonACP = numeric(dBLOSUM, pred_nonACP_740)\n",
        "\n",
        "print(BPF740_nonACP.shape)\n",
        "print(dBIT740_nonACP.shape)\n",
        "print(dBLOSUM740_nonACP.shape)\n",
        "\n",
        "y_pred_740nonACP_MHCNN = ACP_MHCNN_740.predict([BPF740_nonACP, dBIT740_nonACP, dBLOSUM740_nonACP])\n",
        "print(y_pred_740nonACP_MHCNN.shape)\n",
        "pred_nonACP740_MHCNN = np.argmax(y_pred_740nonACP_MHCNN, axis=1)\n",
        "print('Synthesized nonACP740 Positive',pred_nonACP740_MHCNN.shape)\n",
        "\n",
        "BPF740_ACP = numeric(dBPF, pred_ACP_740)\n",
        "dBIT740_ACP = numeric(dBIT, pred_ACP_740)\n",
        "dBLOSUM740_ACP = numeric(dBLOSUM, pred_ACP_740)\n",
        "\n",
        "print(BPF740_ACP.shape)\n",
        "print(dBIT740_ACP.shape)\n",
        "print(dBLOSUM740_ACP.shape)\n",
        "\n",
        "y_pred_740ACP_MHCNN = ACP_MHCNN_740.predict([BPF740_ACP, dBIT740_ACP, dBLOSUM740_ACP])\n",
        "print(y_pred_740ACP_MHCNN.shape)\n",
        "pred_ACP740_MHCNN = np.argmax(y_pred_740ACP_MHCNN, axis=1)\n",
        "print('Synthesized ACP740 Positive', pred_ACP740_MHCNN.shape)"
      ],
      "metadata": {
        "colab": {
          "base_uri": "https://localhost:8080/"
        },
        "id": "hIssXjuZJ9Q8",
        "outputId": "6802c9ff-875f-4fa7-9ca8-f27ce7a358b7"
      },
      "execution_count": 5,
      "outputs": [
        {
          "output_type": "stream",
          "name": "stdout",
          "text": [
            "Downloading data from https://raw.githubusercontent.com/mhdshl/LSE-Seq-synthesis/main/data/pred_seq_740_nonACP.txt\n",
            "\u001b[1m153142/153142\u001b[0m \u001b[32m━━━━━━━━━━━━━━━━━━━━\u001b[0m\u001b[37m\u001b[0m \u001b[1m0s\u001b[0m 0us/step\n",
            "(4000, 25, 20)\n",
            "(4000, 25, 31)\n",
            "(4000, 25, 20)\n",
            "\u001b[1m125/125\u001b[0m \u001b[32m━━━━━━━━━━━━━━━━━━━━\u001b[0m\u001b[37m\u001b[0m \u001b[1m1s\u001b[0m 4ms/step\n",
            "(4000, 2)\n",
            "Synthesized nonACP740 Positive (4000,)\n",
            "Downloading data from https://raw.githubusercontent.com/mhdshl/LSE-Seq-synthesis/main/data/pred_seq_740_ACP.txt\n",
            "\u001b[1m129180/129180\u001b[0m \u001b[32m━━━━━━━━━━━━━━━━━━━━\u001b[0m\u001b[37m\u001b[0m \u001b[1m0s\u001b[0m 0us/step\n",
            "(4000, 25, 20)\n",
            "(4000, 25, 31)\n",
            "(4000, 25, 20)\n",
            "\u001b[1m125/125\u001b[0m \u001b[32m━━━━━━━━━━━━━━━━━━━━\u001b[0m\u001b[37m\u001b[0m \u001b[1m1s\u001b[0m 4ms/step\n",
            "(4000, 2)\n",
            "Synthesized ACP740 Positive (4000,)\n"
          ]
        }
      ]
    },
    {
      "cell_type": "markdown",
      "source": [
        "## ACP-DL"
      ],
      "metadata": {
        "id": "X8wYb9bX7Mqi"
      }
    },
    {
      "cell_type": "markdown",
      "source": [
        "### ACP240"
      ],
      "metadata": {
        "id": "-3xjS92FL_qs"
      }
    },
    {
      "cell_type": "code",
      "source": [
        "data_dim = 483\n",
        "timesteps = 1\n",
        "\n",
        "bpf240_nonACP, kmer240_nonACP, label240_nonACP = prepare_feature_ACP_DL(pred_nonACP_240)\n",
        "print(bpf240_nonACP.shape)\n",
        "print(kmer240_nonACP.shape)\n",
        "print(len(label240_nonACP))\n",
        "\n",
        "x240_nonACP = np.concatenate((bpf240_nonACP, kmer240_nonACP), axis=1)\n",
        "x240_nonACP = np.reshape(x240_nonACP, (len(x240_nonACP), timesteps, data_dim))\n",
        "print(x240_nonACP.shape)\n",
        "\n",
        "y_240_nonACP_DL = ACP_DL_240.predict(x240_nonACP)\n",
        "print(y_240_nonACP_DL.shape)\n",
        "\n",
        "pred_240_nonACP_DL = np.round(y_240_nonACP_DL)\n",
        "pred_240_nonACP_DL = to_categorical(pred_240_nonACP_DL)\n",
        "pred_240_nonACP_DL = np.argmax(pred_240_nonACP_DL, axis=1)\n",
        "pred_240_nonACP_DL = pred_240_nonACP_DL.astype(int)\n",
        "print('ACP-DL 240 nonACP',pred_240_nonACP_DL.shape)\n",
        "\n",
        "bpf240_ACP, kmer240_ACP, label240_ACP = prepare_feature_ACP_DL(pred_ACP_240)\n",
        "print(bpf240_ACP.shape)\n",
        "print(kmer240_ACP.shape)\n",
        "print(len(label240_ACP))\n",
        "\n",
        "x240_ACP = np.concatenate((bpf240_ACP, kmer240_ACP), axis=1)\n",
        "x240_ACP = np.reshape(x240_ACP, (len(x240_ACP), timesteps, data_dim))\n",
        "print(x240_ACP.shape)\n",
        "\n",
        "y_240_ACP_DL = ACP_DL_240.predict(x240_nonACP)\n",
        "print(y_240_ACP_DL.shape)\n",
        "\n",
        "pred_240_ACP_DL = np.round(y_240_ACP_DL)\n",
        "pred_240_ACP_DL = to_categorical(pred_240_ACP_DL)\n",
        "pred_240_ACP_DL = np.argmax(pred_240_ACP_DL, axis=1)\n",
        "pred_240_ACP_DL = pred_240_ACP_DL.astype(int)\n",
        "print(pred_240_ACP_DL.shape)"
      ],
      "metadata": {
        "colab": {
          "base_uri": "https://localhost:8080/"
        },
        "id": "_Amw8P4g7Gsc",
        "outputId": "2498dfef-e930-4958-da27-f781b29151c6"
      },
      "execution_count": 6,
      "outputs": [
        {
          "output_type": "stream",
          "name": "stdout",
          "text": [
            "(4000, 140)\n",
            "(4000, 343)\n",
            "4000\n",
            "(4000, 1, 483)\n",
            "\u001b[1m125/125\u001b[0m \u001b[32m━━━━━━━━━━━━━━━━━━━━\u001b[0m\u001b[37m\u001b[0m \u001b[1m1s\u001b[0m 3ms/step\n",
            "(4000, 1)\n",
            "ACP-DL 240 nonACP (4000,)\n",
            "(4000, 140)\n",
            "(4000, 343)\n",
            "4000\n",
            "(4000, 1, 483)\n",
            "\u001b[1m125/125\u001b[0m \u001b[32m━━━━━━━━━━━━━━━━━━━━\u001b[0m\u001b[37m\u001b[0m \u001b[1m0s\u001b[0m 3ms/step\n",
            "(4000, 1)\n",
            "(4000,)\n"
          ]
        }
      ]
    },
    {
      "cell_type": "markdown",
      "source": [
        "### ACP740"
      ],
      "metadata": {
        "id": "SQwtHGEAMDWy"
      }
    },
    {
      "cell_type": "code",
      "source": [
        "data_dim = 483\n",
        "timesteps = 1\n",
        "\n",
        "bpf740_nonACP, kmer740_nonACP, label740_nonACP = prepare_feature_ACP_DL(pred_nonACP_740)\n",
        "print(bpf740_nonACP.shape)\n",
        "print(kmer740_nonACP.shape)\n",
        "print(len(label740_nonACP))\n",
        "\n",
        "x740_nonACP = np.concatenate((bpf740_nonACP, kmer740_nonACP), axis=1)\n",
        "x740_nonACP = np.reshape(x740_nonACP, (len(x740_nonACP), timesteps, data_dim))\n",
        "print(x740_nonACP.shape)\n",
        "\n",
        "y_740_nonACP_DL = ACP_DL_740.predict(x240_nonACP)\n",
        "print(y_740_nonACP_DL.shape)\n",
        "\n",
        "pred_740_nonACP_DL = np.round(y_740_nonACP_DL)\n",
        "pred_740_nonACP_DL = to_categorical(pred_740_nonACP_DL)\n",
        "pred_740_nonACP_DL = np.argmax(pred_740_nonACP_DL, axis=1)\n",
        "pred_740_nonACP_DL = pred_740_nonACP_DL.astype(int)\n",
        "print('ACP-DL 740 nonACP',pred_740_nonACP_DL.shape)\n",
        "\n",
        "bpf740_ACP, kmer740_ACP, label740_ACP = prepare_feature_ACP_DL(pred_ACP_740)\n",
        "print(bpf740_ACP.shape)\n",
        "print(kmer740_ACP.shape)\n",
        "print(len(label740_ACP))\n",
        "\n",
        "x740_ACP = np.concatenate((bpf740_ACP, kmer740_ACP), axis=1)\n",
        "x740_ACP = np.reshape(x740_ACP, (len(x740_ACP), timesteps, data_dim))\n",
        "print(x740_ACP.shape)\n",
        "\n",
        "y_740_ACP_DL = ACP_DL_740.predict(x740_nonACP)\n",
        "print(y_740_ACP_DL.shape)\n",
        "\n",
        "pred_740_ACP_DL = np.round(y_740_ACP_DL)\n",
        "pred_740_ACP_DL = to_categorical(pred_740_ACP_DL)\n",
        "pred_740_ACP_DL = np.argmax(pred_740_ACP_DL, axis=1)\n",
        "pred_740_ACP_DL = pred_740_ACP_DL.astype(int)\n",
        "print(pred_740_ACP_DL.shape)"
      ],
      "metadata": {
        "colab": {
          "base_uri": "https://localhost:8080/"
        },
        "id": "NSMHO1hSMC79",
        "outputId": "71fa5208-c310-4c22-f249-c47bb6142388"
      },
      "execution_count": 7,
      "outputs": [
        {
          "output_type": "stream",
          "name": "stdout",
          "text": [
            "(4000, 140)\n",
            "(4000, 343)\n",
            "4000\n",
            "(4000, 1, 483)\n",
            "\u001b[1m125/125\u001b[0m \u001b[32m━━━━━━━━━━━━━━━━━━━━\u001b[0m\u001b[37m\u001b[0m \u001b[1m1s\u001b[0m 3ms/step\n",
            "(4000, 1)\n",
            "ACP-DL 740 nonACP (4000,)\n",
            "(4000, 140)\n",
            "(4000, 343)\n",
            "4000\n",
            "(4000, 1, 483)\n",
            "\u001b[1m125/125\u001b[0m \u001b[32m━━━━━━━━━━━━━━━━━━━━\u001b[0m\u001b[37m\u001b[0m \u001b[1m0s\u001b[0m 3ms/step\n",
            "(4000, 1)\n",
            "(4000,)\n"
          ]
        }
      ]
    },
    {
      "cell_type": "markdown",
      "source": [
        "## ACP-LSE"
      ],
      "metadata": {
        "id": "MHdS8BeU8UAC"
      }
    },
    {
      "cell_type": "markdown",
      "source": [
        "### ACP240"
      ],
      "metadata": {
        "id": "-xQrMuuAOzBW"
      }
    },
    {
      "cell_type": "code",
      "source": [
        "[Data240_nonACP, Label240_nonACP] = Convert_Seq2CKSAAP(prepare_feature_for_CKSAAP(pred_nonACP_240), gap=8)\n",
        "print(Data240_nonACP.shape)\n",
        "print(Label240_nonACP.shape)\n",
        "\n",
        "pred_240_nonACP, _ = ACP_LSE_240.predict(Data240_nonACP)\n",
        "print(pred_240_nonACP.shape)\n",
        "\n",
        "pred_240_nonACP_LSE = np.argmax(pred_240_nonACP, axis=1)\n",
        "print('nonACP240 LSE Pred',pred_240_nonACP_LSE.shape)\n",
        "\n",
        "[Data240_ACP, Label240_ACP] = Convert_Seq2CKSAAP(prepare_feature_for_CKSAAP(pred_ACP_240), gap=8)\n",
        "print(Data240_ACP.shape)\n",
        "print(Label240_ACP.shape)\n",
        "\n",
        "pred_240_ACP, _ = ACP_LSE_240.predict(Data240_ACP)\n",
        "print(pred_240_ACP.shape)\n",
        "\n",
        "pred_240_ACP_LSE = np.argmax(pred_240_ACP, axis=1)\n",
        "print('ACP240 LSE Pred',pred_240_ACP_LSE.shape)"
      ],
      "metadata": {
        "colab": {
          "base_uri": "https://localhost:8080/"
        },
        "id": "yx-bKjWQ8V8t",
        "outputId": "e257ea57-de7f-4a00-fc15-65481bdf1703"
      },
      "execution_count": 8,
      "outputs": [
        {
          "output_type": "stream",
          "name": "stdout",
          "text": [
            "num pos: 4000 num neg: 0\n",
            "(4000, 3600)\n",
            "(4000, 1)\n",
            "\u001b[1m125/125\u001b[0m \u001b[32m━━━━━━━━━━━━━━━━━━━━\u001b[0m\u001b[37m\u001b[0m \u001b[1m1s\u001b[0m 4ms/step\n",
            "(4000, 2)\n",
            "nonACP240 LSE Pred (4000,)\n",
            "num pos: 4000 num neg: 0\n",
            "(4000, 3600)\n",
            "(4000, 1)\n",
            "\u001b[1m125/125\u001b[0m \u001b[32m━━━━━━━━━━━━━━━━━━━━\u001b[0m\u001b[37m\u001b[0m \u001b[1m1s\u001b[0m 4ms/step\n",
            "(4000, 2)\n",
            "ACP240 LSE Pred (4000,)\n"
          ]
        }
      ]
    },
    {
      "cell_type": "markdown",
      "source": [
        "### ACP740"
      ],
      "metadata": {
        "id": "Ti1UmCiqO4sz"
      }
    },
    {
      "cell_type": "code",
      "source": [
        "[Data740_nonACP, Label740_nonACP] = Convert_Seq2CKSAAP(prepare_feature_for_CKSAAP(pred_nonACP_740), gap=8)\n",
        "print(Data740_nonACP.shape)\n",
        "print(Label740_nonACP.shape)\n",
        "\n",
        "pred_740_nonACP, _ = ACP_LSE_740.predict(Data740_nonACP)\n",
        "print(pred_740_nonACP.shape)\n",
        "\n",
        "pred_740_nonACP_LSE = np.argmax(pred_740_nonACP, axis=1)\n",
        "print('nonACP740 LSE Pred',pred_740_nonACP_LSE.shape)\n",
        "\n",
        "[Data740_ACP, Label740_ACP] = Convert_Seq2CKSAAP(prepare_feature_for_CKSAAP(pred_ACP_740), gap=8)\n",
        "print(Data740_ACP.shape)\n",
        "print(Label740_ACP.shape)\n",
        "\n",
        "pred_740_ACP, _ = ACP_LSE_740.predict(Data740_ACP)\n",
        "print(pred_740_ACP.shape)\n",
        "\n",
        "pred_740_ACP_LSE = np.argmax(pred_740_ACP, axis=1)\n",
        "print('ACP740 LSE Pred',pred_740_ACP_LSE.shape)"
      ],
      "metadata": {
        "colab": {
          "base_uri": "https://localhost:8080/"
        },
        "id": "Jrp0Afn9O2iC",
        "outputId": "366c28f1-8417-4086-ac6b-d3a25f28ef91"
      },
      "execution_count": 9,
      "outputs": [
        {
          "output_type": "stream",
          "name": "stdout",
          "text": [
            "num pos: 4000 num neg: 0\n",
            "(4000, 3600)\n",
            "(4000, 1)\n",
            "\u001b[1m125/125\u001b[0m \u001b[32m━━━━━━━━━━━━━━━━━━━━\u001b[0m\u001b[37m\u001b[0m \u001b[1m1s\u001b[0m 5ms/step\n",
            "(4000, 2)\n",
            "nonACP740 LSE Pred (4000,)\n",
            "num pos: 4000 num neg: 0\n",
            "(4000, 3600)\n",
            "(4000, 1)\n",
            "\u001b[1m125/125\u001b[0m \u001b[32m━━━━━━━━━━━━━━━━━━━━\u001b[0m\u001b[37m\u001b[0m \u001b[1m1s\u001b[0m 6ms/step\n",
            "(4000, 2)\n",
            "ACP740 LSE Pred (4000,)\n"
          ]
        }
      ]
    },
    {
      "cell_type": "code",
      "source": [
        "matching_240_nonACP_ind = []\n",
        "for i in range(0, Label240_nonACP.shape[0]):\n",
        "  if pred_nonACP240_MHCNN[i] == pred_240_nonACP_DL[i] == 0:# pred_240_nonACP_LSE[i] == 0:\n",
        "    matching_240_nonACP_ind.append(i)\n",
        "print('NonACP sequences classified as non-ACPs for ACP240 dataset')\n",
        "print(70*'-')\n",
        "print('Number of non-ACP (ACP240) Classified as non-ACP (rank=2):',len(matching_240_nonACP_ind))\n",
        "print('Total number of sequences (trained):',Label240_nonACP.shape[0])\n",
        "print('Accuracy = ', len(matching_240_nonACP_ind)/Label240_nonACP.shape[0])"
      ],
      "metadata": {
        "colab": {
          "base_uri": "https://localhost:8080/"
        },
        "id": "RHGUUBzhDPQb",
        "outputId": "188f8451-0953-4e65-e50c-7d8431c0f178"
      },
      "execution_count": 10,
      "outputs": [
        {
          "output_type": "stream",
          "name": "stdout",
          "text": [
            "NonACP sequences classified as non-ACPs for ACP240 dataset\n",
            "----------------------------------------------------------------------\n",
            "Number of non-ACP (ACP240) Classified as non-ACP (rank=2): 1445\n",
            "Total number of sequences (trained): 4000\n",
            "Accuracy =  0.36125\n"
          ]
        }
      ]
    },
    {
      "cell_type": "code",
      "source": [
        "matching_240_ACP_ind = []\n",
        "for i in range(0, Label240_ACP.shape[0]):\n",
        "  if pred_ACP240_MHCNN[i] == pred_240_ACP_DL[i] == 1:#pred_240_ACP_LSE[i] == 1:\n",
        "    matching_240_ACP_ind.append(i)\n",
        "print('ACP sequences classified as ACPs for ACP240 dataset')\n",
        "print(70*'-')\n",
        "print('Number of Positive ACPs (rank = 2) for ACPs generated using our model:',len(matching_240_ACP_ind))\n",
        "print('Total number of sequences (trained):',Label240_ACP.shape[0])\n",
        "print('Accuracy = ', len(matching_240_ACP_ind)/Label240_ACP.shape[0])"
      ],
      "metadata": {
        "colab": {
          "base_uri": "https://localhost:8080/"
        },
        "id": "vF5sxh2OQL9D",
        "outputId": "726b9fbe-6b88-4167-df1c-3a378aa01174"
      },
      "execution_count": 11,
      "outputs": [
        {
          "output_type": "stream",
          "name": "stdout",
          "text": [
            "ACP sequences classified as ACPs for ACP240 dataset\n",
            "----------------------------------------------------------------------\n",
            "Number of Positive ACPs (rank = 2) for ACPs generated using our model: 1967\n",
            "Total number of sequences (trained): 4000\n",
            "Accuracy =  0.49175\n"
          ]
        }
      ]
    },
    {
      "cell_type": "code",
      "source": [
        "matching_740_nonACP_ind = []\n",
        "for i in range(0, Label740_nonACP.shape[0]):\n",
        "  if pred_nonACP740_MHCNN[i] == pred_740_nonACP_DL[i] == 0:#pred_740_nonACP_LSE[i] == 1:\n",
        "    matching_740_nonACP_ind.append(i)\n",
        "print('NonACP sequences classified as non-ACPs for ACP740 dataset')\n",
        "print(70*'-')\n",
        "print('Number of Positive ACP740 (rank = 2) for ACPs generated using our model:',len(matching_740_nonACP_ind))\n",
        "print('Total number of sequences (trained):',Label740_nonACP.shape[0])\n",
        "print('Accuracy = ', len(matching_740_nonACP_ind)/Label740_nonACP.shape[0])"
      ],
      "metadata": {
        "colab": {
          "base_uri": "https://localhost:8080/"
        },
        "outputId": "6c21b655-b5ea-4e4f-91d5-62d27225de4e",
        "id": "fUp5ZFb_Qt95"
      },
      "execution_count": 12,
      "outputs": [
        {
          "output_type": "stream",
          "name": "stdout",
          "text": [
            "NonACP sequences classified as non-ACPs for ACP740 dataset\n",
            "----------------------------------------------------------------------\n",
            "Number of Positive ACP740 (rank = 2) for ACPs generated using our model: 3231\n",
            "Total number of sequences (trained): 4000\n",
            "Accuracy =  0.80775\n"
          ]
        }
      ]
    },
    {
      "cell_type": "code",
      "source": [
        "matching_740_ACP_ind = []\n",
        "for i in range(0, Label740_ACP.shape[0]):\n",
        "  if pred_ACP740_MHCNN[i] == pred_740_ACP_DL[i] == 1:#pred_740_ACP_LSE[i] == 1:\n",
        "    matching_740_ACP_ind.append(i)\n",
        "print('ACP sequences classified as ACPs for ACP740 dataset')\n",
        "print(70*'-')\n",
        "print('Number of Positive ACP740 (rank = 2) for ACPs generated using our model:',len(matching_740_ACP_ind))\n",
        "print('Total number of sequences (trained):',Label740_ACP.shape[0])\n",
        "print('Accuracy = ', len(matching_740_ACP_ind)/Label740_ACP.shape[0])"
      ],
      "metadata": {
        "colab": {
          "base_uri": "https://localhost:8080/"
        },
        "outputId": "a2c6b0d1-6e6e-4a1e-c30c-d4cc7291a5bc",
        "id": "CQwD6Xt1Qt95"
      },
      "execution_count": 13,
      "outputs": [
        {
          "output_type": "stream",
          "name": "stdout",
          "text": [
            "ACP sequences classified as ACPs for ACP740 dataset\n",
            "----------------------------------------------------------------------\n",
            "Number of Positive ACP740 (rank = 2) for ACPs generated using our model: 1909\n",
            "Total number of sequences (trained): 4000\n",
            "Accuracy =  0.47725\n"
          ]
        }
      ]
    },
    {
      "cell_type": "markdown",
      "source": [
        "### Filtered positive and negative sequence extraction and saving as txt files"
      ],
      "metadata": {
        "id": "t05s-amw4DsH"
      }
    },
    {
      "cell_type": "code",
      "source": [
        "def seq_save(gen_seq_path, match_seq_ind, seq_title = 'ACP', file_name = 'ACP240_filter.txt', label = '0'):\n",
        "  seq_file = wget.download(gen_seq_path)\n",
        "  new_list=[]\n",
        "  # label = []\n",
        "  seq_list = []\n",
        "  filter_seq = []\n",
        "  lis = []\n",
        "  with open(seq_file, 'r') as fp:\n",
        "    for line in fp:\n",
        "        if line[0] == '>':\n",
        "          values = line[1:].strip().split('|')\n",
        "          label_temp = values[1]\n",
        "          proteinName = values[0]\n",
        "          proteinName_1=proteinName.split(\"_\")\n",
        "          new_list.append(proteinName_1[0])\n",
        "\n",
        "        else:\n",
        "            seq = line[:-1]\n",
        "            seq_list.append(seq)\n",
        "    f240 = open(file_name, 'w')\n",
        "    for i in match_seq_ind:\n",
        "        f240.write('>'+seq_title+'_'+str(i)+'|'+label+'\\n')\n",
        "        f240.write(seq_list[i]+'\\n')\n",
        "        filter_seq.append(seq_list[i])\n",
        "    f240.close()\n",
        "    return filter_seq"
      ],
      "metadata": {
        "id": "3TgofEOo385X"
      },
      "execution_count": 14,
      "outputs": []
    },
    {
      "cell_type": "code",
      "source": [
        "nACP240_filter = seq_save(pred_nonACP_240, matching_240_nonACP_ind, 'nonACP', file_name = 'nonACP240_filter.txt', label = '4')\n",
        "ACP240_filter = seq_save(pred_ACP_240, matching_240_ACP_ind, 'ACP', file_name = 'ACP240_filter.txt', label = '5')\n",
        "nACP740_filter = seq_save(pred_nonACP_740, matching_740_nonACP_ind, 'nonACP', file_name = 'nonACP740_filter.txt', label = '6')\n",
        "ACP740_filter = seq_save(pred_ACP_740, matching_740_ACP_ind, 'ACP', file_name = 'ACP740_filter.txt', label = '7')"
      ],
      "metadata": {
        "id": "IuCKGu2A4CwY"
      },
      "execution_count": 15,
      "outputs": []
    }
  ]
}